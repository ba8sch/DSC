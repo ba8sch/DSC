{
  "metadata": {
    "kernelspec": {
      "display_name": "Python (env PEM)",
      "name": "py-dku-venv-pem",
      "language": "python"
    },
    "language_info": {
      "mimetype": "text/x-python",
      "nbconvert_exporter": "python",
      "version": "3.6.8",
      "name": "python",
      "pygments_lexer": "ipython3",
      "file_extension": ".py",
      "codemirror_mode": {
        "version": 3,
        "name": "ipython"
      }
    },
    "creator": "schneib",
    "createdOn": 1647960731569,
    "tags": [],
    "versionNumber": 4,
    "modifiedBy": "schneib",
    "customFields": {}
  },
  "nbformat": 4,
  "nbformat_minor": 1,
  "cells": [
    {
      "cell_type": "markdown",
      "metadata": {},
      "source": [
        "# Quantifying N2O Emissions Reductions in Agricultural Crops through Nitrogen Fertilizer Rate Reduction (USA)\n\n## VCS Methodology\n\n### In this lab, the methodology by VCS (VM0022, Version 1.1) is used to calculate the number of verified carbon credits acquired from reduction of Nitrogen in the fertilizer. \n\n###### If you\u0027re using DATAIKU, run this lab with the following kernel: python env PEM "
      ]
    },
    {
      "cell_type": "markdown",
      "metadata": {},
      "source": [
        "Importing necessary modules"
      ]
    },
    {
      "execution_count": 1,
      "cell_type": "code",
      "metadata": {},
      "source": [
        "from __future__ import print_function\nimport math\nimport numpy as np\nimport matplotlib.pyplot as plt\nimport ipywidgets as widgets\nfrom ipywidgets import interact, FloatSlider, Layout\n$ pip3 install voila"
      ],
      "outputs": [
        {
          "output_type": "error",
          "evalue": "invalid syntax (\u003cipython-input-1-67bf1d7e2584\u003e, line 7)",
          "traceback": [
            "\u001b[0;36m  File \u001b[0;32m\"\u003cipython-input-1-67bf1d7e2584\u003e\"\u001b[0;36m, line \u001b[0;32m7\u001b[0m\n\u001b[0;31m    $ pip3 install voila\u001b[0m\n\u001b[0m    ^\u001b[0m\n\u001b[0;31mSyntaxError\u001b[0m\u001b[0;31m:\u001b[0m invalid syntax\n"
          ],
          "ename": "SyntaxError"
        }
      ]
    },
    {
      "cell_type": "markdown",
      "metadata": {},
      "source": [
        "Defining the fixed variables provided by the VCS paper based on the IPCC default \n"
      ]
    },
    {
      "execution_count": 0,
      "cell_type": "code",
      "metadata": {},
      "source": [
        "#Emission factor for baseline direct N2O emissions from N inputs (imperical ton N2O–N (imperical ton N input)-1 ) Appendix F\nEF_BDM1\u003d0.01 \n\n#Emission factor for project N2O emissions from N inputs (imperical ton N2O–N (imperical ton N input)-1 ) Appendix F)\nEF_PDM1\u003d0.01\n\n#Global warming potential for N2O (imperical ton CO2e (imperical ton N2O)-1) Appendix F\nN2O_GWP\u003d310\n\n#Fraction of all synthetic N added to baseline soils that volatilizes as NH3 and Nox (Dimensionless) Appendix F\nFracGASF\u003d0.10\n\n#Fraction of all organic N added to baseline soils that volatilizes as NH3 and Nox (Dimensionless) Appendix F\nFracGASM\u003d0.20\n\n#Fraction of N added (synthetic or organic) to baseline soils that is lost through leaching and runoff, in regions where leaching and runoff occurs (Dimensionless) Appendix A and F\nFracLeach\u003d0.30\n\n#Emission factor for baseline N2O emissions from N leaching and runoff (imperical ton N2O–N (imperical ton N leached and runoff)^-1) Appendix F\nEF_BIL\u003d0.0075\n\n#Emission factor for baseline N2O emissions from atmospheric deposition of N on soils and water surfaces  ([imperical ton N2O–N (imperical ton NH3–N + NOx–N volatilized)^-1]) Appendix F\nEF_BIV\u003d0.01\n\n#Emission factor for project N2O emissions from atmospheric deposition of N on soils and water surfaces ([imperical ton N2O–N (imperical ton NH3–N + NOx–N volatilized)^-1]) Appendix F\nEF_PIV\u003d0.01\n\n#Emission factor for project N2O emissions from N leaching and runoff (imperical ton N2O–N (imperical ton N leached and runoff)^-1) Appendix F\nEF_PIL\u003d0.0075\n\n#Ratio molecular weight N2O/N\nN2O_MW\u003d 44.013/14.007 \n"
      ],
      "outputs": []
    },
    {
      "cell_type": "markdown",
      "metadata": {},
      "source": [
        "The leakage deduction is assumed to be zero based on the methodology described in section 8.3. This can be changed if the Carbon Bank DSC team wishes to change this value in the future. "
      ]
    },
    {
      "execution_count": 0,
      "cell_type": "code",
      "metadata": {},
      "source": [
        "#Leakage deduction- (set as 0 in this methodology, as described in section 8.3)\nLK\u003d0"
      ],
      "outputs": []
    },
    {
      "cell_type": "markdown",
      "metadata": {},
      "source": [
        "The buffer deduction is assumed to be zero by the Carbon Bank DSC team. This is susceptible to change if the CarbonBank DSC team changes its mind. "
      ]
    },
    {
      "execution_count": 0,
      "cell_type": "code",
      "metadata": {},
      "source": [
        "#Buffer deduction - (set as 0 in the methodology - this may not be an assumption by the CarbonBank)\nBUF\u003d0"
      ],
      "outputs": []
    },
    {
      "cell_type": "markdown",
      "metadata": {},
      "source": [
        "# Sliders for input variables\n\nThe \u0027function\u0027 is now set up to calculate all the variables and graph the Total Emissions, Emission Reduction and Verified Carbon Credits.\u003cbr\u003e\nThe variables of function \u0027function\u0027 require inputs for M_BSF, M_BOF, NC_BSF, NC_BOF, M_PSF,M_POF,NC_PSF,NC_POF, Area. \u003cbr\u003e I want to create a graph with a slider so that the user can input their own values and playaround with different scenarios. \u003cbr\u003e \nThe graphs have already been created inside the function, but now I need to create the sliders. The cell below will create a slider for each input variable of the function. \n\nM\u003dMass\nB\u003dBaseline\nP\u003dProject\nS\u003dSynthetic\nO\u003dOrganic\nF\u003dFertilizer"
      ]
    },
    {
      "cell_type": "markdown",
      "metadata": {},
      "source": [
        "### Data range\nBefore we make the sliders, we need to have a notion of the range of the input variables. \u003cbr\u003e\n\n##### Mass range\nTo gain an idea of the range of value of the Mass and N content:\nhttps://www.ers.usda.gov/data-products/fertilizer-use-and-price.aspx (table 10) shows that the average amount of Nitrogen used on corn in the latests year (2018) is 149pounds/acre. \u003cbr\u003e \nSince kg ha-1 \u003d kilograms per hectare \u003d 0.893 pounds per acre \u003cbr\u003e\n149pounds/acre\u003d0.167Mg/ha \u003cbr\u003e\nThe range chosen for the slider is therefore chosen to be: min_mass\u003d0 max_mass\u003d0.3\n\n##### N content  range\nN content (Nitrogen content in grams per 100g of fertilizer used) basically is the percentage of Nitrogen of the fertilizer used. Using logic, the minimum amount of Nitrogen a fertizilier could have is 0% and maximum is 100%. \u003cbr\u003e\nThe range chosen for the slider is therefore: min_NC\u003d0 max_NC\u003d1"
      ]
    },
    {
      "execution_count": 0,
      "cell_type": "code",
      "metadata": {},
      "source": [
        "#making sure the entire text in the description of the slider shows\nstyle \u003d {\u0027description_width\u0027: \u0027initial\u0027}\n\n#defining the minimum and maximum values for the sliders\nmin_mass\u003d0\nmax_mass\u003d0.9\nmin_NC\u003d0\nmax_NC\u003d1\nmin_area\u003d1\nmax_area\u003d200\n\n##CREATING THE SLIDERS FOR THE GRAPHS\n#Slider for the mass of baseline synthetic fertilizer\nM_BSF_Slider\u003dFloatSlider(\n    min\u003dmin_mass,\n    max\u003dmax_mass,\n    step\u003d0.001,\n    description\u003d\u0027 Mass of baseline N containing synthetic fertilizer applied (imperical ton ha-1 in year t)….\u0027,\n    disabled\u003dFalse,\n    orientation\u003d\u0027horizontal\u0027,\n    readout\u003dTrue,\n    style\u003dstyle,\n    value\u003d(max_mass-min_mass)/2,\n    layout\u003dLayout(width\u003d\u0027800px\u0027))\n\n#Slider for the mass of baseline organic fertilizer\nM_BOF_Slider\u003dFloatSlider(\n    min\u003dmin_mass,\n    max\u003dmax_mass,\n    step\u003d0.001,\n    description\u003d\u0027 Mass of baseline N containing organic fertilizer applied (imperical ton ha-1 in year t)…..\u0027,\n    disabled\u003dFalse,\n    orientation\u003d\u0027horizontal\u0027,\n    readout\u003dTrue,\n    style\u003dstyle,\n    value\u003d(max_mass-min_mass)/2,\n    layout\u003dLayout(width\u003d\u0027800px\u0027))\n\n#Slider for the N content of baseline synthetic fertilizer\nNC_BSF_Slider\u003dFloatSlider(\n    min\u003dmin_NC,\n    max\u003dmax_NC,\n    step\u003d0.01,\n    description\u003d\u0027Percentage of Nitrogen in synthetic fertilizer applied during baseline (fraction)..............\u0027,\n    disabled\u003dFalse,\n    orientation\u003d\u0027horizontal\u0027,\n    readout\u003dTrue,\n    style\u003dstyle,\n    value\u003d(max_NC-min_NC)/2,\n    layout\u003dLayout(width\u003d\u0027800px\u0027))\n\n#Slider for the N content of baseline organic fertilizer\nNC_BOF_Slider\u003dFloatSlider(\n    min\u003dmin_NC,\n    max\u003dmax_NC,\n    step\u003d0.01,\n    description\u003d\u0027Percentage of Nitrogen in organic fertilizer applied during baseline (fraction)................\u0027,\n    disabled\u003dFalse,\n    orientation\u003d\u0027horizontal\u0027,\n    readout\u003dTrue,\n    style\u003dstyle,\n    value\u003d(max_NC-min_NC)/2,\n    layout\u003dLayout(width\u003d\u0027800px\u0027))\n\n#Slider for the mass of project synthetic fertilizer\nM_PSF_Slider\u003dFloatSlider(\n    min\u003dmin_mass,\n    max\u003dmax_mass,\n    step\u003d0.001,\n    description\u003d\u0027Mass of project N containing synthetic fertilizer applied (imperical ton ha-1 in year t)….\u0027,\n    disabled\u003dFalse,\n    orientation\u003d\u0027horizontal\u0027,\n    readout\u003dTrue,\n    style\u003dstyle,\n    value\u003d(max_mass-min_mass)/2,\n    layout\u003dLayout(width\u003d\u0027800px\u0027))\n\n#Slider for the mass of project organic fertilizer\nM_POF_Slider\u003dFloatSlider(\n    min\u003dmin_mass,\n    max\u003dmax_mass,\n    step\u003d0.001,\n    description\u003d\u0027Mass of project N containing organic fertilizer applied (imperical ton ha-1 in year t)……\u0027,\n    disabled\u003dFalse,\n    orientation\u003d\u0027horizontal\u0027,\n    readout\u003dTrue,\n    style\u003dstyle,\n    value\u003d(max_mass-min_mass)/2,\n    layout\u003dLayout(width\u003d\u0027800px\u0027))\n\n#Slider for the N content of project synthetic fertilizer\nNC_PSF_Slider\u003dFloatSlider(\n    min\u003dmin_NC,\n    max\u003dmax_NC,\n    step\u003d0.01,\n    description\u003d\u0027Percentage of Nitrogen in synthetic fertilizer applied during project (fraction)..............\u0027,\n    disabled\u003dFalse,\n    orientation\u003d\u0027horizontal\u0027,\n    readout\u003dTrue,\n    style\u003dstyle,\n    value\u003d(max_NC-min_NC)/2,\n    layout\u003dLayout(width\u003d\u0027800px\u0027))\n\n#Slider for the N content of project organic fertilizer\nNC_POF_Slider\u003dFloatSlider(\n    min\u003dmin_NC,\n    max\u003dmax_NC,\n    step\u003d0.01,\n    description\u003d\u0027Percentage of Nitrogen in organic fertilizer applied during project (fraction)................\u0027,\n    disabled\u003dFalse,\n    orientation\u003d\u0027horizontal\u0027,\n    readout\u003dTrue,\n    style\u003dstyle,\n    value\u003d(max_NC-min_NC)/2,\n    layout\u003dLayout(width\u003d\u0027800px\u0027))\n\n#Slider for the area of the proejct\nArea_Slider\u003dFloatSlider(\n    min\u003dmin_area,\n    max\u003dmax_area,\n    step\u003d1,\n    description\u003d\u0027Project Area (ha).....................................................................................................\u0027,\n    disabled\u003dFalse,\n    orientation\u003d\u0027horizontal\u0027,\n    readout\u003dTrue,\n    style\u003dstyle,\n    value\u003d(max_area-(min_area-1))/2,\n    layout\u003dLayout(width\u003d\u0027800px\u0027))\n"
      ],
      "outputs": []
    },
    {
      "cell_type": "markdown",
      "metadata": {},
      "source": [
        "# Baseline Emissions"
      ]
    },
    {
      "execution_count": 0,
      "cell_type": "code",
      "metadata": {},
      "source": [
        "def BaselineCalculation(M_BSF, M_BOF, NC_BSF, NC_BOF, Area):\n    \n    #SYNTHETIC AND ORGANIC FERTILIZER APPLIED IN BASELINE\n    #Synthetic fertilizer applied in baseline (the same for the two methods)\n    F_BSN \u003d M_BSF * NC_BSF \n    #Organic fertilizer applied in baseline (the same for the two methods)\n    F_BON \u003d M_BOF * NC_BOF\n    \n    ##DIRECT BASELINE EMISSIONS FOR METHOD 1 AND 2\n    ##DIRECT BASELINE EMISSIONS METHOD 1\n    #Direct baseline nitrous oxide emissions from nitrogen fertilization for method 1\n    N2O_B_Dir1\u003d(F_BON+F_BSN)* EF_BDM1 * N2O_MW * N2O_GWP\n    \n    ##DIRECT BASELINE EMISSIONS METHOD 2\n    #Emission factor of baseline direct emission, method 2\n    EF_BDM2\u003d0.00067*((math.exp(6.7*(F_BSN+F_BON))-1)/(F_BSN+F_BON))\n    #Direct emissions of nitrous oxide from method 2\n    N2O_B_Dir2\u003d(F_BON+F_BSN)* EF_BDM2 * N2O_MW * N2O_GWP\n    \n    \n    #INDIRECT BASELINE EMISSIONS (both methods)\n    #Nitrous oxide indirect emissions volatization (the same for the two methods)\n    N2O_B_Vol\u003d((F_BSN * FracGASF ) + (F_BON * FracGASM)) * EF_BIV  * N2O_MW * N2O_GWP\n    #Nitrous oxide indirect emossions from leaching and runoff (the same for the two methods)\n    N2O_B_Leach\u003d (F_BSN+F_BON) * FracLeach * EF_BIL* N2O_MW * N2O_GWP\n    #Nitrous oxide baseline indirect emissions (the same for the two methods)\n    N2O_B_Ind\u003d N2O_B_Vol + N2O_B_Leach\n    \n    \n    #TOTAL BASELINE EMISSIONS METHOD 1 AND 2\n    #Total Emissions Baseline with method 1\n    N2O_B_Total1\u003d N2O_B_Dir1 + N2O_B_Ind\n    #Total Emissions Baseline with method 2\n    N2O_B_Total2\u003d N2O_B_Dir2 + N2O_B_Ind\n    \n        \n    #VISUALIZATION CHART OF TOTAL EMISSIONS PER AREA (Ha)\n    #preparing vectors for bar chart of total emissions\n    labelsE\u003d[\u0027Method 1\u0027, \u0027Method 2\u0027]\n    EBHa\u003d[N2O_B_Total1,N2O_B_Total2] #emission baseline per Ha vector (imperical ton CO2e ha-1 in year t) to (imperical ton CO2e in year t)\n    #creating, formatting and labelling bar chart of total emissions\n    x \u003d np.arange(len(labelsE))\n    width \u003d 0.25\n    Ebar\u003dplt.figure(1) #total emissions bar graph\n    plt.bar(labelsE,EBHa)\n    plt.xticks(x,labelsE)\n    #plt.legend(labelsE,fontsize\u003d12)\n    plt.ylabel(\u0027Total Emissions per Ha (imperical ton CO2e ha-1 in year t)\u0027,fontsize\u003d12)\n    plt.title(\u0027Nitrous Oxide Total Emissions per Ha\u0027,fontsize\u003d15)\n    plt.grid(True, color \u003d \"grey\", linewidth \u003d \"0.3\", linestyle \u003d \"-\")\n    Ebar.show()\n    \n    \n    #VISUALIZATION CHART OF TOTAL EMISSIONS FOR TOTAL PROJECT AREA\n    #preparing vectors for bar chart of total emissions\n    labelsE\u003d[\u0027Method 1\u0027, \u0027Method 2\u0027]\n    EBTA\u003d[N2O_B_Total1*Area,N2O_B_Total2*Area] #vector emission for total area baseline. The vector multiplied by area to transform units from (imperical ton CO2e ha-1 in year t) to (imperical ton CO2e in year t)\n    #creating, formatting and labelling bar chart of total emissions\n    x \u003d np.arange(len(labelsE))\n    width \u003d 0.25\n    Ebar\u003dplt.figure(2) #total emissions bar graph\n    plt.bar(x,EBTA)\n    plt.xticks(x,labelsE)\n    #plt.legend(labelsE,fontsize\u003d12)\n    plt.ylabel(\u0027Total Emissions (imperical ton CO2e in year t)\u0027,fontsize\u003d12)\n    plt.title(\u0027Nitrous Oxide Total Emission for Project Area\u0027,fontsize\u003d15)\n    plt.grid(True, color \u003d \"grey\", linewidth \u003d \"0.3\", linestyle \u003d \"-\")\n    Ebar.show()   \n    \n    "
      ],
      "outputs": []
    },
    {
      "execution_count": 0,
      "cell_type": "code",
      "metadata": {},
      "source": [
        "#Slider to update bar graph including range of each variable    \ninteract(BaselineCalculation,M_BSF\u003dM_BSF_Slider, M_BOF\u003dM_BOF_Slider, NC_BSF\u003dNC_BSF_Slider, NC_BOF\u003dNC_BOF_Slider, Area\u003dArea_Slider);"
      ],
      "outputs": []
    },
    {
      "cell_type": "markdown",
      "metadata": {},
      "source": [
        "# Baseline emissions, Project Emissions, Emissions Reductions and VCUs"
      ]
    },
    {
      "cell_type": "markdown",
      "metadata": {},
      "source": [
        "The following blox of text will contain a user defined function which includes the following:\n- Defining the equations from the VSC Methodology PDF\n- Plotting the number total emissions from baseline, project, and reduction for both methods\n- Plotting the number percentage change in emission reduction between the baseline and project for both methods\n- Plotting the number of Verified Carbon Credits for both methods\n\nNote:\nThe only mathematical difference between the two methods is the Emission Factor. The emission factor for method 1 is fixed and defined above (EF_BDM1,EF_PDM1,EF_BIV,EF_PIV,EF_PIL). The emission factor for method 2 is calculated below for the baseline (EF_BDM2) and proejct (EF_PDM2)"
      ]
    },
    {
      "execution_count": 0,
      "cell_type": "code",
      "metadata": {},
      "source": [
        "def function(M_BSF, M_BOF, NC_BSF, NC_BOF, M_PSF,M_POF,NC_PSF,NC_POF, Area):\n    \n    #SYNTHETIC AND ORGANIC FERTILIZER APPLIED IN BASELINE\n    #Synthetic fertilizer applied in baseline (the same for the two methods)\n    F_BSN \u003d M_BSF * NC_BSF \n    #Organic fertilizer applied in baseline (the same for the two methods)\n    F_BON \u003d M_BOF * NC_BOF\n    \n    \n    ##DIRECT BASELINE EMISSIONS FOR METHOD 1 AND 2\n    ##DIRECT BASELINE EMISSIONS METHOD 1\n    #Direct baseline nitrous oxide emissions from nitrogen fertilization for method 1\n    N2O_B_Dir1\u003d(F_BON+F_BSN)* EF_BDM1 * N2O_MW * N2O_GWP\n    \n    ##DIRECT BASELINE EMISSIONS METHOD 2\n    #Emission factor of baseline direct emission, method 2\n    EF_BDM2\u003d0.00067*((math.exp(6.7*(F_BSN+F_BON))-1)/(F_BSN+F_BON))\n    #Direct emissions of nitrous oxide from method 2\n    N2O_B_Dir2\u003d(F_BON+F_BSN)* EF_BDM2 * N2O_MW * N2O_GWP\n    \n    \n    #INDIRECT BASELINE EMISSIONS (both methods)\n    #Nitrous oxide indirect emissions volatization (the same for the two methods)\n    N2O_B_Vol\u003d((F_BSN * FracGASF ) + (F_BON * FracGASM)) * EF_BIV  * N2O_MW * N2O_GWP\n    #Nitrous oxide indirect emossions from leaching and runoff (the same for the two methods)\n    N2O_B_Leach\u003d (F_BSN+F_BON) * FracLeach * EF_BIL* N2O_MW * N2O_GWP\n    #Nitrous oxide baseline indirect emissions (the same for the two methods)\n    N2O_B_Ind\u003d N2O_B_Vol + N2O_B_Leach\n    \n    \n    #TOTAL BASELINE EMISSIONS METHOD 1 AND 2\n    #Total Emissions Baseline with method 1\n    N2O_B_Total1\u003d N2O_B_Dir1 + N2O_B_Ind\n    #Total Emissions Baseline with method 2\n    N2O_B_Total2\u003d N2O_B_Dir2 + N2O_B_Ind\n    \n    \n    #SYNTHETIC AND ORGANIC FERTILIZER APPLIED IN PROJECT\n    #synthetic fertilizer applied in project\n    F_PSN \u003d M_PSF * NC_PSF\n    #organic fertilizer applied in project \n    F_PON \u003d M_POF * NC_POF\n\n    \n    #DIRECT PROJECT EMISSIONS FOR METHOD 1 AND 2\n    #DIRECT PROJECT EMISSIONS METHOD 1\n    #direct project nitrous oxide direct emissions with method 1\n    N2O_P_Dir1\u003d(F_PON+F_PSN)* EF_PDM1 * N2O_MW * N2O_GWP\n    #DIRECT PROJECT EMISSIONS METHOD 2\n    #emission factor for method 2 needed to calculate direct nitrous oxide direct emissions with method 2\n    EF_PDM2\u003d0.00067*((math.exp(6.7*(F_PSN+F_PON))-1)/(F_PSN+F_PON))\n    #direct project nitrous oxide direct emissions with method 2\n    N2O_P_Dir2\u003d(F_PON+F_PSN)* EF_PDM2 * N2O_MW * N2O_GWP\n    \n    \n    #INDIRECT PROJECT EMISSIONS (BOTH METHODS)\n    #Nitrous oxide indirect emissions volatization (the same for the two methods)\n    N2O_P_Vol\u003d((F_PSN * FracGASF ) + (F_PON * FracGASM)) * EF_PIV * N2O_MW * N2O_GWP\n    #Nitrous oxide indirect emossions from leaching and runoff (the same for the two methods)\n    N2O_P_Leach\u003d (F_PSN+F_PON) * FracLeach * EF_PIL * N2O_MW * N2O_GWP\n    #Nitrous oxide baseline indirect emissions (the same for the two methods)\n    N2O_P_Ind\u003d N2O_P_Vol + N2O_P_Leach\n    \n    \n    #TOTAL PROJECT EMISSIONS METHOD 1 AND 2\n    #Total Emissions Project with method 1\n    N2O_P_Total1\u003d N2O_P_Dir1 + N2O_P_Ind\n    #Total Emissions Project with method 2\n    N2O_P_Total2\u003d N2O_P_Dir2 + N2O_P_Ind\n    \n\n    #UNCERTAINTY DEDUCTION \n    #Calculating the uncertainty deduction from section 8.4 of the VSC PDF\n    UncRange\u003d(1-(0.63*math.exp(-40*((F_PSN+F_PON)**2))))*100 #equation for uncertainity in N2O emission reductions\n    if UncRange\u003c\u003d15: \n        Unc\u003d0 #uncertainty deduction for uncertaintiy range below 15% based on table 3 of section 8.4\n    elif 15\u003c\u003dUncRange\u003c\u003d30:\n        Unc\u003d0.057 #uncertainty deduction for uncertaintiy range above 15% and above 30% based on table 3 of section 8.4\n    elif 30\u003c\u003dUncRange\u003e\u003d50:\n        Unc\u003d0.107 #uncertainty deduction for uncertaintiy range above 30% and above 50% based on table 3 of section 8.4\n    else:\n        Unc\u003d0.164 #uncertainty deduction for uncertaintiy range above 50% based on table 3 of section 8.4\n    \n    \n    #REDUCTION IN TOTAL EMISSIONS METHOD 1 AND 2\n    #Reduction in total emission method 1\n    N2O_PR1\u003d (N2O_B_Total1 - N2O_P_Total1) * Area * (1-LK) * (1-Unc)\n    #Reduction in total emission method 2\n    N2O_PR2\u003d(N2O_B_Total2 - N2O_P_Total2) * Area * (1-LK) * (1-Unc)\n\n    \n    #NUMBER OF VERIFIED CARBON CREDITS WITH METHOD 1 AND 2\n    #Number of verified carbon credits with method 1\n    VCC1\u003d N2O_PR1 * (1-BUF)\n    #Number of verified carbon credits with method 2\n    VCC2\u003d N2O_PR2 * (1-BUF)\n    \n    #\n    #\n    #\n    #\n    #ALL THE CALCULATIONS FROM VCS ARE NOW COMPLETE\n    #FOLLOWING CODE IS TO VISUALIZE DATA\n    \n    \n        \n    #VISUALIZATION CHART OF TOTAL EMISSIONS PER AREA (Ha)\n    #preparing vectors for bar chart of total emissions\n    labelsE\u003d[\u0027Method 1\u0027, \u0027Method 2\u0027]\n    EB\u003d[N2O_B_Total1,N2O_B_Total2] #emission baseline vector  (imperical ton CO2e ha-1 in year t) to (imperical ton CO2e in year t)\n    EP\u003d[N2O_P_Total1,N2O_P_Total2] #emission project vector (imperical ton CO2e ha-1 in year t) \n    ER\u003d[N2O_PR1/Area, N2O_PR2/Area] #emission reduction vector divided by area to transform unit from (imperical ton CO2e in year t) to (imperical ton CO2e ha-1 in year t)\n    #creating, formatting and labelling bar chart of total emissions\n    x \u003d np.arange(len(labelsE))\n    width \u003d 0.25\n    Ebar\u003dplt.figure(1) #total emissions bar graph\n    plt.bar(x-width,EB,width)\n    plt.bar(x,EP,width)\n    plt.bar(x+width,ER,width)\n    plt.xticks(x,labelsE)\n    plt.legend([\u0027Baseline\u0027,\u0027Project\u0027,\u0027Emission Reduction\u0027],fontsize\u003d12)\n    plt.ylabel(\u0027Total Emissions per Ha (imperical ton CO2e ha-1 in year t)\u0027,fontsize\u003d12)\n    plt.title(\u0027Nitrous Oxide Total Emissions per Ha\u0027,fontsize\u003d15)\n    plt.grid(True, color \u003d \"grey\", linewidth \u003d \"0.3\", linestyle \u003d \"-\")\n    Ebar.show()\n    \n    #VISUALIZATION CHART OF TOTAL EMISSIONS FOR TOTAL PROJECT AREA\n    #preparing vectors for bar chart of total emissions\n    labelsE\u003d[\u0027Method 1\u0027, \u0027Method 2\u0027]\n    EB\u003d[N2O_B_Total1*Area,N2O_B_Total2*Area] #emission baseline vector multiplied by area to transform units from (imperical ton CO2e ha-1 in year t) to (imperical ton CO2e in year t)\n    EP\u003d[N2O_P_Total1*Area,N2O_P_Total2*Area] #emission project vector multiplied by area to transform units from (imperical ton CO2e ha-1 in year t) to (imperical ton CO2e in year t)\n    ER\u003d[N2O_PR1, N2O_PR2] #emission reduction vector\n    #creating, formatting and labelling bar chart of total emissions\n    x \u003d np.arange(len(labelsE))\n    width \u003d 0.25\n    Ebar\u003dplt.figure(2) #total emissions bar graph\n    plt.bar(x-width,EB,width)\n    plt.bar(x,EP,width)\n    plt.bar(x+width,ER,width)\n    plt.xticks(x,labelsE)\n    plt.legend([\u0027Baseline\u0027,\u0027Project\u0027,\u0027Emission Reduction\u0027],fontsize\u003d12)\n    plt.ylabel(\u0027Total Emissions (imperical ton CO2e in year t)\u0027,fontsize\u003d12)\n    plt.title(\u0027Nitrous Oxide Total Emission for Project Area\u0027,fontsize\u003d15)\n    plt.grid(True, color \u003d \"grey\", linewidth \u003d \"0.3\", linestyle \u003d \"-\")\n    Ebar.show()\n    \n    \n    \n    #VISUALIZATION OF EMISSION REDUCTION PERCENTAGE\n    #calculating Emission Reduction Percentage (ERP) percentage change for method 1\n    ERP1\u003d((N2O_P_Total1-N2O_B_Total1)/N2O_P_Total1)*-100 #what are the units?\n    #calculating percentage change for method 2\n    ERP2\u003d((N2O_P_Total2-N2O_B_Total2)/N2O_P_Total2)*-100\n    #creating, formatting and labelling bar chart of emission reductions\n    ERP\u003d[ERP1,ERP2]\n    ERPbar\u003dplt.figure(3)\n    plt.bar(labelsE,ERP,color\u003d\u0027green\u0027)\n    plt.title(\"Emission Reduction (%)\",fontsize\u003d15)\n    plt.xlabel(\u0027Method\u0027,fontsize\u003d12)\n    plt.ylabel(\u0027Emission Reduction (%)\u0027,fontsize\u003d12)\n    plt.grid(True, color \u003d \"grey\", linewidth \u003d \"0.3\", linestyle \u003d \"-\")\n    ERPbar.show()\n    \n    #VISUALIZATION CHART OF VERIFIED CARBON CREDITS\n    #preparing vectors for bar chart of carbon credits\n    labelsE\u003d[\u0027Method 1\u0027, \u0027Method 2\u0027]\n    VCC\u003d[VCC1, VCC2] #VCC as a vector\n    #creating, formatting and labelling bar chart of carbon credits\n    VCCbar\u003dplt.figure(4)\n    plt.bar(labelsE,VCC,color\u003d\u0027red\u0027)\n    plt.title(\"Verified Carbon Units at time t (imperical tonCo2e) for project area\",fontsize\u003d15)\n    plt.xlabel(\u0027Method\u0027,fontsize\u003d12)\n    plt.ylabel(\u0027Verified Carbon Units\u0027,fontsize\u003d12)\n    plt.figure(2)\n    plt.grid(True, color \u003d \"grey\", linewidth \u003d \"0.3\", linestyle \u003d \"-\")\n    VCCbar.show()"
      ],
      "outputs": []
    },
    {
      "cell_type": "markdown",
      "metadata": {},
      "source": [
        "The \u0027function\u0027 is now set up to calculate all the variables and graph the Total Emissions, Emission Reduction and Verified Carbon Credits. \u003cbr\u003eThe sliders for each variable is now defined. \u003cbr\u003e We are now going to use ipywidgets module \u0027interact\u0027 to call the function. The input variables of the function are going to call the sliders created in the cell above."
      ]
    },
    {
      "execution_count": 0,
      "cell_type": "code",
      "metadata": {
        "scrolled": true
      },
      "source": [
        "#Slider to update bar graph including range of each variable              \ninteract(function,M_BSF\u003dM_BSF_Slider, M_BOF\u003dM_BOF_Slider, NC_BSF\u003dNC_BSF_Slider, NC_BOF\u003dNC_BOF_Slider, M_PSF\u003dM_PSF_Slider,M_POF\u003dM_POF_Slider,NC_PSF\u003dNC_PSF_Slider,NC_POF\u003dNC_POF_Slider, Area\u003dArea_Slider);"
      ],
      "outputs": []
    },
    {
      "execution_count": 0,
      "cell_type": "code",
      "metadata": {},
      "source": [
        ""
      ],
      "outputs": []
    },
    {
      "execution_count": 0,
      "cell_type": "code",
      "metadata": {},
      "source": [
        ""
      ],
      "outputs": []
    }
  ]
}